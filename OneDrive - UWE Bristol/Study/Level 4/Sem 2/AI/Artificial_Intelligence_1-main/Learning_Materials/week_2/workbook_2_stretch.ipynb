{
 "cells": [
  {
   "cell_type": "markdown",
   "metadata": {},
   "source": [
    "<div class=\"alert alert-block alert-info\" style=\"color:black\"> <h2>Activity 5: Investigate the time and space (memory) requirements of your two methods</h2>\n",
    "    You should now have working versions of both breadth-first and (restricted) depth-first search. They already store the number of attempts tested (a measure of runtime), and the code cells that run them print that value out.<br>\n",
    "    The next step is to compare memory - which is proportional to the maximum size of the open list. \n",
    "    <br><br><b>How to get started:</b> Edit your code for both classes:\n",
    "    <ol>\n",
    "    <li> Copy-paste <code>update_working_memory()</code> into your <code>BreadthFirstSearch</code> class</li>\n",
    "    <li> In both your classes add a new parameter <code>self.max_memory</code> with a default value 0 by over-riding the <code>__init__()</code> method of the super class.</ul>\n",
    "    <li> Override <code>update_working_memory()</code> in both your classes, adding code to:\n",
    "        <ul>\n",
    "            <li>check the length of the open_list against <code>self.max_memory</code></li>\n",
    "            <li> update the value of <code>self.max_memory</code> if the open list has increased in size.</li>\n",
    "        </ul>\n",
    "    <li> Copy-paste the testing code from the cells above, then adapt it to test the time and memory needs of your algorithms.</li> \n",
    "    </ol>\n",
    "    <b>Note:</b> this is a <em>Stretch</em> activity so don't worry if you can't complete it easily.\n",
    "</div>"
   ]
  },
  {
   "cell_type": "code",
   "execution_count": 3,
   "metadata": {},
   "outputs": [],
   "source": [
    "# ====> insert your code here"
   ]
  },
  {
   "cell_type": "code",
   "execution_count": 4,
   "metadata": {},
   "outputs": [
    {
     "ename": "NameError",
     "evalue": "name 'SingleMemberSearch' is not defined",
     "output_type": "error",
     "traceback": [
      "\u001b[1;31m---------------------------------------------------------------------------\u001b[0m",
      "\u001b[1;31mNameError\u001b[0m                                 Traceback (most recent call last)",
      "Cell \u001b[1;32mIn[4], line 1\u001b[0m\n\u001b[1;32m----> 1\u001b[0m \u001b[38;5;28;01mclass\u001b[39;00m \u001b[38;5;21;01mBreadthFirstSearch\u001b[39;00m(\u001b[43mSingleMemberSearch\u001b[49m):\n\u001b[0;32m      2\u001b[0m \u001b[38;5;250m    \u001b[39m\u001b[38;5;124;03m\"\"\"Your implementation of breadth-first search with memory tracking\"\"\"\u001b[39;00m\n\u001b[0;32m      4\u001b[0m     \u001b[38;5;28;01mdef\u001b[39;00m \u001b[38;5;21m__init__\u001b[39m(\u001b[38;5;28mself\u001b[39m, \n\u001b[0;32m      5\u001b[0m                  problem: Problem, \n\u001b[0;32m      6\u001b[0m                  constructive: \u001b[38;5;28mbool\u001b[39m \u001b[38;5;241m=\u001b[39m \u001b[38;5;28;01mFalse\u001b[39;00m, \n\u001b[0;32m      7\u001b[0m                  max_attempts: \u001b[38;5;28mint\u001b[39m \u001b[38;5;241m=\u001b[39m \u001b[38;5;241m50\u001b[39m, \n\u001b[0;32m      8\u001b[0m                  minimise\u001b[38;5;241m=\u001b[39m\u001b[38;5;28;01mTrue\u001b[39;00m, \n\u001b[0;32m      9\u001b[0m                  target_quality\u001b[38;5;241m=\u001b[39m\u001b[38;5;241m1\u001b[39m):\n",
      "\u001b[1;31mNameError\u001b[0m: name 'SingleMemberSearch' is not defined"
     ]
    }
   ],
   "source": [
    "class BreadthFirstSearch(SingleMemberSearch):\n",
    "    \"\"\"Your implementation of breadth-first search with memory tracking\"\"\"\n",
    "    \n",
    "    def __init__(self, \n",
    "                 problem: Problem, \n",
    "                 constructive: bool = False, \n",
    "                 max_attempts: int = 50, \n",
    "                 minimise=True, \n",
    "                 target_quality=1):\n",
    "        super().__init__(problem, constructive, max_attempts, minimise, target_quality)\n",
    "        self.max_memory = 0  # Track maximum open list size\n",
    "    \n",
    "    def __str__(self):\n",
    "        return \"breadth-first\"\n",
    "    \n",
    "    def select_and_move_from_openlist(self) -> CandidateSolution:\n",
    "        next_soln = CandidateSolution()\n",
    "        my_index = 0\n",
    "        next_soln = self.open_list[my_index]\n",
    "        self.open_list.pop(my_index)\n",
    "        return next_soln\n",
    "    \n",
    "    def update_working_memory(self, neighbour: CandidateSolution, reason: str):\n",
    "        # Update max_memory if current open list is larger\n",
    "        if len(self.open_list) > self.max_memory:\n",
    "            self.max_memory = len(self.open_list)\n",
    "            \n",
    "        if neighbour.quality == self.target_quality:\n",
    "            self.result = neighbour.variable_values\n",
    "            self.solved = True\n",
    "        elif reason != \"\":\n",
    "            self.runlog += (f\"discarding invalid solution {neighbour.variable_values} \"\n",
    "                           f\"because {reason}\\n\")\n",
    "            self.closed_list.append(neighbour)\n",
    "        else:\n",
    "            self.runlog += (\"adding solution to openlist\"\n",
    "                          f\": to examine later: {neighbour.variable_values}\\t\"\n",
    "                          f\" quality {neighbour.quality}\\n\")\n",
    "            self.open_list.append(neighbour)\n",
    "            \n",
    "class RestrictedDepthFirstSearch(SingleMemberSearch):\n",
    "    \"\"\"Your implementation of restricted depth-first search with memory tracking\"\"\"\n",
    "    \n",
    "    def __init__(self,\n",
    "                 problem: Problem,\n",
    "                 constructive: bool = False,\n",
    "                 max_attempts: int = 50,\n",
    "                 minimise=True,\n",
    "                 target_quality=1,\n",
    "                 max_depth: int = 10):\n",
    "        super().__init__(problem, constructive, max_attempts, minimise, target_quality)\n",
    "        self.max_depth = max_depth\n",
    "        self.max_memory = 0  # Track maximum open list size\n",
    "    \n",
    "    def __str__(self):\n",
    "        return \"restricted-depth-first\"\n",
    "    \n",
    "    def select_and_move_from_openlist(self) -> CandidateSolution:\n",
    "        my_index = len(self.open_list) - 1\n",
    "        next_soln = self.open_list[my_index]\n",
    "        self.open_list.pop(my_index)\n",
    "        return next_soln\n",
    "    \n",
    "    def update_working_memory(self, neighbour: CandidateSolution, reason: str):\n",
    "        # Update max_memory if current open list is larger\n",
    "        if len(self.open_list) > self.max_memory:\n",
    "            self.max_memory = len(self.open_list)\n",
    "            \n",
    "        if neighbour.quality == self.target_quality:\n",
    "            self.result = neighbour.variable_values\n",
    "            self.solved = True\n",
    "        elif reason != \"\":\n",
    "            self.runlog += (f\"discarding invalid solution {neighbour.variable_values} \"\n",
    "                           f\"because {reason}\\n\")\n",
    "            self.closed_list.append(neighbour)\n",
    "        elif len(neighbour.variable_values) < self.max_depth:\n",
    "            self.runlog += (\"adding solution to openlist\"\n",
    "                          f\": to examine later: {neighbour.variable_values}\\t\"\n",
    "                          f\" quality {neighbour.quality}\\n\")\n",
    "            self.open_list.append(neighbour)\n",
    "            \n",
    "# Create a FoxChickenGrain problem\n",
    "myproblem = FoxChickenGrain()\n",
    "\n",
    "# Test BFS\n",
    "bfs = BreadthFirstSearch(myproblem, constructive=True, max_attempts=1000)\n",
    "found = bfs.run_search()\n",
    "if found:\n",
    "    print(f\"BFS solved in {bfs.trials} attempts with max memory {bfs.max_memory}\")\n",
    "    print(f\"Solution: {myproblem.display(bfs.result)}\")\n",
    "\n",
    "# Test Restricted DFS\n",
    "rdfs = RestrictedDepthFirstSearch(myproblem, constructive=True, max_attempts=1000, max_depth=10)\n",
    "found = rdfs.run_search()\n",
    "if found:\n",
    "    print(f\"Restricted DFS solved in {rdfs.trials} attempts with max memory {rdfs.max_memory}\")\n",
    "    print(f\"Solution: {myproblem.display(rdfs.result)}\")"
   ]
  },
  {
   "cell_type": "code",
   "execution_count": null,
   "metadata": {},
   "outputs": [
    {
     "data": {
      "application/vnd.jupyter.widget-view+json": {
       "model_id": "d399c5ce9987407cb96f96bcc24367a6",
       "version_major": 2,
       "version_minor": 0
      },
      "text/plain": [
       "VBox(children=(Output(), RadioButtons(layout=Layout(height='auto', width='auto'), options=(('yes', 0), ('no', …"
      ]
     },
     "metadata": {},
     "output_type": "display_data"
    },
    {
     "data": {
      "application/vnd.jupyter.widget-view+json": {
       "model_id": "b1ca86f120d74fefbfc540a951c53e4c",
       "version_major": 2,
       "version_minor": 0
      },
      "text/plain": [
       "VBox(children=(Output(), RadioButtons(layout=Layout(height='auto', width='auto'), options=(('yes', 0), ('no', …"
      ]
     },
     "metadata": {},
     "output_type": "display_data"
    }
   ],
   "source": [
    "import workbook2_utils as wb2\n",
    "display(wb2.q12)\n",
    "display(wb2.q13)"
   ]
  }
 ],
 "metadata": {
  "kernelspec": {
   "display_name": "Python 3",
   "language": "python",
   "name": "python3"
  },
  "language_info": {
   "codemirror_mode": {
    "name": "ipython",
    "version": 3
   },
   "file_extension": ".py",
   "mimetype": "text/x-python",
   "name": "python",
   "nbconvert_exporter": "python",
   "pygments_lexer": "ipython3",
   "version": "3.12.3"
  }
 },
 "nbformat": 4,
 "nbformat_minor": 2
}
