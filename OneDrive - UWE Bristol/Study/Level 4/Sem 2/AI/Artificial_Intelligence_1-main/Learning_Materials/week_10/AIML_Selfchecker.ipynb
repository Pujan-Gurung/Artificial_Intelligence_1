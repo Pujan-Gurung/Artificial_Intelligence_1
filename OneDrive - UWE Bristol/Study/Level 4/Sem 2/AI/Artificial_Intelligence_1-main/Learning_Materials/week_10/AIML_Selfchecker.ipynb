{
 "cells": [
  {
   "cell_type": "markdown",
   "metadata": {},
   "source": [
    "# AIML Portfolio Self-check\n",
    "\n",
    "## TO USE THIS NOTEBOOK RUN EACH CELL ONE BY ONE\n",
    "### If you get errors (red boxes appear) fix them before you move on.\n",
    "\n",
    "<div class=\"alert alert-block alert-danger\"> <b>REMEMBER:</b> You need to make sure you are running this code within the virtual environment you created using 'AIenv'.<br> In Jupyter click on the kernel menu then change-kernel. In VSCode use the kernel selector in the top-right hand corner </div>"
   ]
  },
  {
   "cell_type": "markdown",
   "metadata": {},
   "source": [
    "### 1: Develop your aiml code in the next cell\n",
    "### and run the cell to write it to file"
   ]
  },
  {
   "cell_type": "code",
   "execution_count": 31,
   "metadata": {},
   "outputs": [
    {
     "name": "stdout",
     "output_type": "stream",
     "text": [
      "Overwriting student.aiml\n"
     ]
    }
   ],
   "source": [
    "%%writefile \"student.aiml\"\n",
    "<aiml>\n",
    "  <!-- Definitions -->\n",
    "  <category>\n",
    "    <pattern>WHAT IS *</pattern>\n",
    "    <template>\n",
    "      <think><set name=\"concept\"><lowercase><star/></lowercase></set></think>\n",
    "      <condition name=\"concept\">\n",
    "        <li value=\"long-term knowledge\"><think><set name=\"topic\">long-term knowledge</set></think>Long-term knowledge is valid over a period of time.</li>\n",
    "        <li value=\"short-term knowledge\"><think><set name=\"topic\">short-term generic knowledge</set></think>Short-term knowledge is only valid for a particular situation or run of a programme.</li>\n",
    "        <li value=\"generic knowledge\"><think><set name=\"topic\">generic knowledge</set></think>Generic knowledge is relevant to more than one application or domain.</li>\n",
    "        <li value=\"domain-specific knowledge\"><think><set name=\"topic\">domain-specific knowledge</set></think>Domain-specific knowledge is only applicable to one specific application or domain.</li>\n",
    "        <li value=\"a fact\"><think><set name=\"topic\">a fact</set></think>A fact is a statement which asserts that a relationship holds for an object-subject pair.</li>\n",
    "        <li value=\"a rule\"><think><set name=\"topic\">a rule</set></think>A rule is a statement that generates new knowledge by asserting that if one fact is true, then another is also true.</li>\n",
    "        <li value=\"a rule mybot\"><srai>WHAT IS a rule</srai></li>\n",
    "        <li value=\"the way that aiml allows variables in its long-term knowledge\"><think><set name=\"topic\">aiml_variables</set></think>AIML has wildcards and srai for that purpose.</li>\n",
    "        <li value=\"the way aiml supports context during a conversation\"><think><set name=\"topic\">aiml_context</set></think>AIML supports context through the use of the that tag to refer to previous bot answers, and via setting variables such as topic.</li>\n",
    "      </condition>\n",
    "    </template>\n",
    "  </category>\n",
    "\n",
    "  <!-- Examples -->\n",
    "  <category>\n",
    "    <pattern>GIVE ME AN EXAMPLE OF *</pattern>\n",
    "    <template>\n",
    "      <think><set name=\"example\"><lowercase><star/></lowercase></set></think>\n",
    "      <condition name=\"example\">\n",
    "        <li value=\"long-term generic knowledge\"><think><set name=\"topic\">long-term generic knowledge</set></think>Generative AI frequently hallucinates and produces incorrect results.</li>\n",
    "        <li value=\"long-term domain-specific knowledge\"><think><set name=\"topic\">long-term domain knowledge</set></think>The formal specification of a particular machine learning algorithm.</li>\n",
    "        <li value=\"short-term generic knowledge\"><think><set name=\"topic\">short-term generic knowledge</set></think>The date today is an example as it may be useful in different contexts but only lasts 24 hours.</li>\n",
    "        <li value=\"short-term domain-specific knowledge\"><think><set name=\"topic\">short-term domain knowledge</set></think>The deadline for the submission of this portfolio.</li>\n",
    "        <li value=\"a fact\"><think><set name=\"topic\">a fact</set></think>Submissions for this module are run through automatic and effective plagiarism checks.</li>\n",
    "        <li value=\"a rule\"><think><set name=\"topic\">a rule</set></think>If submitsOthersWork(X) then commitsAssessmentOffence(X).</li>\n",
    "      </condition>\n",
    "    </template>\n",
    "  </category>\n",
    "\n",
    "  <!-- Context-Dependent questions -->\n",
    "  <category>\n",
    "    <pattern>WHY IS KNOWING THAT USEFUL</pattern>\n",
    "    <that>*</that>\n",
    "    <template>\n",
    "      <condition name=\"topic\">\n",
    "        <li value=\"a fact\">To remind you that we take assessment offences very seriously.</li>\n",
    "        <li value=\"aiml_variables\">Because it allows us to make statements that apply to classes of things or questions.</li>\n",
    "        <li value=\"aiml_context\">Because some words like that and it can only be understood in the context of previous sentences.</li>\n",
    "      </condition>\n",
    "    </template>\n",
    "  </category>\n",
    "\n",
    "  <!-- MYBOT questions -->\n",
    "  <category>\n",
    "    <pattern>MYBOT *</pattern>\n",
    "    <template><srai>WHAT IS A RULE</srai></template>\n",
    "  </category>\n",
    "  <category>\n",
    "    <pattern>* MYBOT *</pattern>\n",
    "    <template><srai>WHAT IS A RULE</srai></template>\n",
    "  </category>\n",
    "\n",
    "  <!-- Definition redirects -->\n",
    "  <category>\n",
    "    <pattern>GIVE ME A DEFINITION OF *</pattern>\n",
    "    <template><srai>WHAT IS <star/></srai></template>\n",
    "  </category>\n",
    "\n",
    "  <category>\n",
    "    <pattern>TELL ME ABOUT *</pattern>\n",
    "    <template><srai>WHAT IS <star/></srai></template>\n",
    "  </category>\n",
    "\n",
    "  <!-- Example redirects -->\n",
    "  <category>\n",
    "    <pattern>ILLUSTRATE THE CONCEPT OF *</pattern>\n",
    "    <template><srai>GIVE ME AN EXAMPLE OF <star/></srai></template>\n",
    "  </category>\n",
    "\n",
    "  <category>\n",
    "    <pattern>* EXAMPLE OF *</pattern>\n",
    "    <template><srai>GIVE ME AN EXAMPLE OF <star index=\"2\"/></srai></template>\n",
    "  </category>\n",
    "\n",
    "</aiml>"
   ]
  },
  {
   "cell_type": "markdown",
   "metadata": {},
   "source": [
    "### 2: Run the next code cell to:\n",
    "- do some imports\n",
    "- create a marker object\n",
    "- load the 45 questions-response pairs"
   ]
  },
  {
   "cell_type": "code",
   "execution_count": 32,
   "metadata": {
    "tags": []
   },
   "outputs": [
    {
     "name": "stdout",
     "output_type": "stream",
     "text": [
      "\n"
     ]
    }
   ],
   "source": [
    "from aimlmarker import AIMLMarker\n",
    "\n",
    "my_marker = AIMLMarker()\n",
    "\n",
    "my_marker.load_questions()"
   ]
  },
  {
   "cell_type": "markdown",
   "metadata": {
    "tags": []
   },
   "source": [
    "### 3:Provided that runs ok, run the next cell to load and test your aiml"
   ]
  },
  {
   "cell_type": "code",
   "execution_count": 33,
   "metadata": {
    "tags": []
   },
   "outputs": [
    {
     "name": "stdout",
     "output_type": "stream",
     "text": [
      "Loading student.aiml...done (0.00 seconds)\n",
      "Score is 100\n",
      "Feedback is:\n",
      "45 question-response pairs read for testing your bot.\n",
      "AIML file student.aiml passes basic xml syntax checks.\n",
      "Passed aiml-specific syntax check.\n",
      "After reading your file the bot has 9 categories.\n",
      "Congratulations,you score 100 because you have beaten Jim's attempt!\n",
      "\n"
     ]
    }
   ],
   "source": [
    "my_marker.test_aiml()\n",
    "print(f\"Score is {my_marker.score}\")\n",
    "feedback = my_marker.feedback_str.replace(\"&lt;\", \"<\").replace(\"&gt;\", \">\")\n",
    "\n",
    "print(f\"Feedback is:\\n{feedback}\")"
   ]
  },
  {
   "cell_type": "markdown",
   "metadata": {},
   "source": [
    "### 4: Repeat step3 until there are no errors. \n",
    "### Then you can run the next cell to see what your bot responded for each question"
   ]
  },
  {
   "cell_type": "code",
   "execution_count": 34,
   "metadata": {
    "tags": []
   },
   "outputs": [
    {
     "name": "stderr",
     "output_type": "stream",
     "text": [
      "'cat' is not recognized as an internal or external command,\n",
      "operable program or batch file.\n"
     ]
    }
   ],
   "source": [
    "!cat \"student-responses.txt\""
   ]
  }
 ],
 "metadata": {
  "kernelspec": {
   "display_name": "Python 3",
   "language": "python",
   "name": "python3"
  },
  "language_info": {
   "codemirror_mode": {
    "name": "ipython",
    "version": 3
   },
   "file_extension": ".py",
   "mimetype": "text/x-python",
   "name": "python",
   "nbconvert_exporter": "python",
   "pygments_lexer": "ipython3",
   "version": "3.12.3"
  }
 },
 "nbformat": 4,
 "nbformat_minor": 4
}
