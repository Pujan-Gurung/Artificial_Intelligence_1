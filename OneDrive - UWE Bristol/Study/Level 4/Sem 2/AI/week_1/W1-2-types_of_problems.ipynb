{
 "cells": [
  {
   "cell_type": "markdown",
   "metadata": {
    "editable": true,
    "slideshow": {
     "slide_type": "slide"
    },
    "tags": []
   },
   "source": [
    "# The three basic types of problems\n",
    "## Artificial Intelligence 1\n",
    "### Lecture 1, part 2\n",
    "Jim Smith"
   ]
  },
  {
   "cell_type": "markdown",
   "metadata": {
    "cell_style": "center",
    "slideshow": {
     "slide_type": "slide"
    }
   },
   "source": [
    "# The Big Idea\n",
    "(parts of) computers do things in a sequence\n",
    "\n",
    "<div >\n",
    "<div style=\"float:left; width: 25%;\">\n",
    "    <h3>Input</h3> \n",
    "    <ul>\n",
    "        <li>keyboard</li>\n",
    "        <li> mouse</li>\n",
    "        <li> joystick</li>\n",
    "        <li> camera</li>\n",
    "        <li>microphone</li>\n",
    "        <li><b> another computer or programme</b></li>\n",
    "     </ul>\n",
    "\n",
    "  </div>\n",
    " \n",
    "    \n",
    " <div style = \"float:left;width:5%\">\n",
    " <br><br><br>   <span style='font-size:50px;'>&#8680;</span>\n",
    " </div>\n",
    "    \n",
    "<div  style=\"float:left; width:30%;background:lightblue\">\n",
    "    <h3>Model</h3>\n",
    "    <p>of a process or part of the world</p>\n",
    "    <ul>\n",
    "        <li>designed by a person</li>\n",
    "        <li> or learned by an algorithm</li>\n",
    "    </ul>\n",
    "</div>\n",
    "\n",
    "<div style = \"float:left;width:5%\">\n",
    " <br><br><br>   <span style='font-size:50px;'>&#8680;</span>\n",
    "</div>\n",
    "\n",
    " <div style=\"float:left; width:25%\">\n",
    "    <h3>Output</h3> \n",
    "    <ul>\n",
    "        <li>screen</li>\n",
    "        <li> motor</li>\n",
    "        <li>loudspeaker</li>\n",
    "        <li><b> another computer or programme</b></li>\n",
    "     </ul>\n",
    "</div>\n",
    "<br style=\"clear:left;\"/>        \n",
    " </div>\n",
    "\n",
    "\n"
   ]
  },
  {
   "cell_type": "markdown",
   "metadata": {
    "cell_style": "split",
    "slideshow": {
     "slide_type": "slide"
    }
   },
   "source": [
    "## For example, this notebook is just a model.\n",
    "\n",
    "Made of up some \n",
    "- generic parts: markdown, html, reveal.js, python\n",
    "- and some specific parts: the slide content \n",
    "\n",
    "The inputs are my mouse/keyboard presses.\n",
    "\n",
    "### But a call to a simple function also fits this viewpoint."
   ]
  },
  {
   "cell_type": "code",
   "execution_count": null,
   "metadata": {
    "cell_style": "split",
    "scrolled": true,
    "slideshow": {
     "slide_type": "fragment"
    }
   },
   "outputs": [],
   "source": [
    "input = \"this is a message to show\"\n",
    "\n",
    "\"\"\"\n",
    "print() is a model \n",
    "of the process of drawing \n",
    "something on screen\n",
    " it's much easier than \n",
    "worrying about pixels!\n",
    "\"\"\"\n",
    "print(str.upper(input))"
   ]
  },
  {
   "cell_type": "markdown",
   "metadata": {
    "jp-MarkdownHeadingCollapsed": true,
    "slideshow": {
     "slide_type": "slide"
    }
   },
   "source": [
    "# Big Idea Part 2:\n",
    "Problem Solving <==> one of the three parts is missing.\n",
    "\n",
    "Different types of problem are associated with different questions.\n",
    "\n",
    "<div >\n",
    "<div style=\"float:left; width: 30%;\">\n",
    "    <h3>Input</h3> \n",
    "    <ul>\n",
    "        <li>how do I?</li>\n",
    "        <li> what's the best/quickest/...?</li>\n",
    "     </ul>\n",
    "    \n",
    "  </div>\n",
    "\n",
    " <div style = \"float:left;width:5%\">\n",
    "<br> <br>.\n",
    " </div>\n",
    "\n",
    "    \n",
    "    \n",
    "<div style=\"float:left; width:30%;background:lightblue\">\n",
    "    <h3>Model</h3>\n",
    "    <ul>\n",
    "        <li>how does X relate to Y?</li>\n",
    "        <li>how do these symptoms link to diagnosis?</li>\n",
    "    </ul>\n",
    "</div>\n",
    "\n",
    "<div style = \"float:left;width:5%\">\n",
    "<br> <br>.\n",
    " </div>\n",
    "    \n",
    " <div style=\"float:left; width:30%\">\n",
    "  <h3>Output</h3> \n",
    "    <ul>\n",
    "        <li>who/what is this?</li>\n",
    "        <li> what will happen if ...?</li>\n",
    "        <li>what will the next ... be?</li>\n",
    "     </ul>\n",
    "</div>\n",
    "<br style=\"clear:left;\"/>        \n",
    " </div>"
   ]
  },
  {
   "cell_type": "markdown",
   "metadata": {
    "slideshow": {
     "slide_type": "slide"
    }
   },
   "source": [
    "# So we can define three types of problem\n",
    "\n",
    "<div >\n",
    "<div style=\"float:left; width: 30%;border:2px\">\n",
    "    <h3>Optimisation</h3>\n",
    "    <h4>Given</h4>\n",
    "    <ul>\n",
    "        <li>A model of the situation</li>\n",
    "        <li>Some constraints about the output</li>\n",
    "     </ul>\n",
    "    <p><b>Find</b> the  inputs that produce the desired output.\n",
    "    <br>Sometimes called <b><i>planning</i></b> when the answer is a sequence of inputs.</p>\n",
    "  </div>\n",
    " \n",
    "<div style = \"float:left;width:5%\">\n",
    "<br> <br>.\n",
    " </div>\n",
    "    \n",
    "<div  style=\"float:left; width:30%;background:lightblue\">\n",
    "    <h3>Modelling</h3>\n",
    "    <h4>Given:</h4>\n",
    "    <ul>\n",
    "        <li> A set of inputs (examples)</li>\n",
    "        <li> corresponding outputs/labels</li>\n",
    "       </ul>\n",
    "    <p>\n",
    "    <b>Find</b> the model that:</p>\n",
    "       <ul>\n",
    "        <li>Maps the known inputs onto their outputs</li>\n",
    "           <li> And generalises to new cases</li>\n",
    "       </ul>\n",
    "</div>\n",
    "\n",
    "\n",
    " <div style = \"float:left;width:5%\">\n",
    "<br> <br>.\n",
    " </div>\n",
    "\n",
    "\n",
    " <div style=\"float:left; width:30%\">\n",
    "  <h3>Prediction</h3> \n",
    "     <h4>Given:</h4>\n",
    "    <ul>\n",
    "        <li>a model of the situation / process</li>\n",
    "        <li> some inputs</li>\n",
    "     </ul>\n",
    "     <p><b>Find</b> the correct (or most likely) output (prediction)</p>\n",
    "</div>\n",
    "<br style=\"clear:left;\"/>        \n",
    " </div>"
   ]
  },
  {
   "cell_type": "markdown",
   "metadata": {
    "cell_style": "center",
    "slideshow": {
     "slide_type": "slide"
    }
   },
   "source": [
    "# Optimisation Example: Travelling Salesperson Problem\n",
    "Work out the quickest way to visit a set of cities, going through each exactly once."
   ]
  },
  {
   "cell_type": "code",
   "execution_count": 1,
   "metadata": {
    "cell_style": "center",
    "code_folding": [],
    "scrolled": true,
    "slideshow": {
     "slide_type": "fragment"
    },
    "tags": []
   },
   "outputs": [],
   "source": [
    "import random, numpy as np, math, matplotlib.pyplot as plt\n",
    "import w1_utils\n",
    "\n",
    "# place cities in random positions\n",
    "num_cities = 10"
   ]
  },
  {
   "cell_type": "code",
   "execution_count": 4,
   "metadata": {
    "cell_style": "center",
    "code_folding": [],
    "slideshow": {
     "slide_type": "slide"
    },
    "tags": []
   },
   "outputs": [
    {
     "name": "stdout",
     "output_type": "stream",
     "text": [
      "[[17, 38], [58, 24], [90, 40], [45, 87], [98, 32], [38, 96], [17, 89], [9, 48], [7, 27], [9, 76]]\n"
     ]
    },
    {
     "data": {
      "image/png": "[encoded data removed]",
      "text/plain": [
       "<Figure size 500x500 with 1 Axes>"
      ]
     },
     "metadata": {},
     "output_type": "display_data"
    }
   ],
   "source": [
    "cities = [random.sample(range(100), 2) for x in range(num_cities)]\n",
    "print(cities)\n",
    "\n",
    "model = w1_utils.get_distances(cities)\n",
    "w1_utils.plot_cities(cities, model)"
   ]
  },
  {
   "cell_type": "markdown",
   "metadata": {
    "cell_style": "center",
    "slideshow": {
     "slide_type": "slide"
    }
   },
   "source": [
    "### Model: the matrix of distances between cities\n",
    "### Output: A tour that visits each city exactly once\n",
    "\n",
    "- Condition on output:   Try to minimise tour length\n",
    "\n",
    "### Optimisation Algorithm: greedy constructive search\n",
    "- Starts with random city then repeatedly adds edge to closest unvisited city.\n",
    "- Not very good, but illustrates the point"
   ]
  },
  {
   "cell_type": "code",
   "execution_count": null,
   "metadata": {
    "cell_style": "center",
    "code_folding": [
     7,
     15
    ],
    "slideshow": {
     "slide_type": "slide"
    },
    "tags": []
   },
   "outputs": [],
   "source": [
    "def greedyConstructiveTourBuilder(start=0):\n",
    "    # set up\n",
    "    visited = np.zeros(num_cities, dtype=\"int\")\n",
    "    tour = []  #  a list of cities in the order we vist them\n",
    "    # start\n",
    "    tour.append(start)\n",
    "    visited[start] = 1\n",
    "\n",
    "    while len(tour) < num_cities:  # loop through stops on the tour\n",
    "        min_dist = 10000\n",
    "        for k in range(num_cities):\n",
    "            this_dist = model[tour[-1]][k]  # tour[-1] is last place in current tour\n",
    "            if not visited[k] and this_dist < min_dist:\n",
    "                min_dist = this_dist\n",
    "                closest = k\n",
    "        tour.append(closest)\n",
    "        visited[closest] = 1\n",
    "    return tour"
   ]
  },
  {
   "cell_type": "code",
   "execution_count": 6,
   "metadata": {
    "cell_style": "center",
    "code_folding": [
     7,
     15
    ],
    "slideshow": {
     "slide_type": "slide"
    },
    "tags": []
   },
   "outputs": [
    {
     "name": "stdout",
     "output_type": "stream",
     "text": [
      "tour is [5, 3, 6, 9, 7, 0, 8, 1, 2, 4] starting from 5\n"
     ]
    },
    {
     "data": {
      "image/png": "[encoded data removed]",
      "text/plain": [
       "<Figure size 640x480 with 1 Axes>"
      ]
     },
     "metadata": {},
     "output_type": "display_data"
    }
   ],
   "source": [
    "start = random.randint(0, num_cities - 1)\n",
    "tour = greedyConstructiveTourBuilder(start)\n",
    "print(f\"tour is {tour} starting from {start}\")\n",
    "w1_utils.show_tour(cities, tour, start)"
   ]
  },
  {
   "cell_type": "markdown",
   "metadata": {
    "slideshow": {
     "slide_type": "slide"
    }
   },
   "source": [
    "# Other example optimisation problems\n",
    "- finding set of parameters for a design\n",
    " - 'look and feel' of a web page via CSS\n",
    " - component sizes and materials for physical design\n",
    " -  grouping data and methods into classes in software design\n",
    "- path-finding\n",
    "- action planning  in games, robotics,..."
   ]
  },
  {
   "cell_type": "markdown",
   "metadata": {
    "cell_style": "center",
    "slideshow": {
     "slide_type": "slide"
    }
   },
   "source": [
    "# Modelling example:\n",
    "### Learning a model from examples of fruit\n",
    "\n",
    "Starting by making a dataset describing some fruit (see next notebook)\n"
   ]
  },
  {
   "cell_type": "code",
   "execution_count": null,
   "metadata": {
    "scrolled": true,
    "tags": []
   },
   "outputs": [],
   "source": [
    "import w1_utils, numpy as np, matplotlib.pyplot as plt\n",
    "\n",
    "np.set_printoptions(precision=2)\n",
    "\n",
    "feature_values, labels = w1_utils.make_fake_fruit()\n",
    "fig = w1_utils.make3dscatters(feature_values, labels)\n",
    "plt.show()"
   ]
  },
  {
   "cell_type": "markdown",
   "metadata": {
    "slideshow": {
     "slide_type": "slide"
    }
   },
   "source": [
    "Then reminding ourselves what the dataset looks like "
   ]
  },
  {
   "cell_type": "code",
   "execution_count": null,
   "metadata": {
    "scrolled": true,
    "slideshow": {
     "slide_type": "fragment"
    },
    "tags": []
   },
   "outputs": [],
   "source": [
    "for feats, label in zip(feature_values, labels):\n",
    "    print(feats, label)"
   ]
  },
  {
   "cell_type": "markdown",
   "metadata": {
    "slideshow": {
     "slide_type": "slide"
    }
   },
   "source": [
    "## Use a simple Decision Tree Classifier algorithm to learn a model"
   ]
  },
  {
   "cell_type": "code",
   "execution_count": null,
   "metadata": {
    "slideshow": {
     "slide_type": "fragment"
    },
    "tags": []
   },
   "outputs": [],
   "source": [
    "from sklearn.tree import DecisionTreeClassifier, plot_tree\n",
    "\n",
    "\n",
    "model = DecisionTreeClassifier()  ## <<<<< make an empty decision tree object\n",
    "model.fit(\n",
    "    feature_values, labels\n",
    ")  ## <<<<< call \"fit\" to learn decision boundaries from data\n",
    "\n",
    "feature_names = [\"Red\", \"Green\", \"Blue\", \"Width\", \"Height\", \"Weight\"]\n",
    "fruit_types = [\"apple\", \"orange\", \"banana\"]\n",
    "theTree = plot_tree(\n",
    "    model,\n",
    "    feature_names=feature_names,\n",
    "    class_names=fruit_types,\n",
    "    label=\"none\",\n",
    "    filled=True,\n",
    "    impurity=False,\n",
    "    fontsize=10,\n",
    "    rounded=True,\n",
    ")"
   ]
  },
  {
   "cell_type": "markdown",
   "metadata": {
    "slideshow": {
     "slide_type": "slide"
    }
   },
   "source": [
    "# Other Modelling Examples:\n",
    "- Getting expertise from a person and coding that up in a rule base\n",
    " - e.g. a chatbot\n",
    " \n",
    "- more on this in the next video and Weeks 10-12"
   ]
  },
  {
   "cell_type": "markdown",
   "metadata": {
    "slideshow": {
     "slide_type": "slide"
    }
   },
   "source": [
    "# Prediction Example: \n",
    "## Using the learned model to predict the type of a new bit of fruit\n",
    "<img style=\"float:left\" src = \"figs/lime.jpg\">\n",
    " \n",
    " - RGB = (50,205,50)\n",
    " - size = 40mm, round\n",
    "-  weight = 44g"
   ]
  },
  {
   "cell_type": "code",
   "execution_count": null,
   "metadata": {
    "scrolled": true,
    "slideshow": {
     "slide_type": "fragment"
    },
    "tags": []
   },
   "outputs": [],
   "source": [
    "new_fruit_features = np.array(\n",
    "    [50, 205, 50, 40, 40, 44]\n",
    ")  ## (R,G,B, width,height,weight)\n",
    "prediction = model.predict(new_fruit_features.reshape(1, -1))  ## array of predictions\n",
    "print(\n",
    "    f\"For a new fruit with features {new_fruit_features} the prediction is {prediction[0]}\"\n",
    ")"
   ]
  },
  {
   "cell_type": "markdown",
   "metadata": {
    "slideshow": {
     "slide_type": "slide"
    }
   },
   "source": [
    "# Other prediction examples\n",
    "\n",
    "- Face Recognition\n",
    "- Voice Recognition ( Speech To text)\n",
    "- Auto-captioning videos \n",
    "- Time series prediction\n",
    " - spread of Covid-19\n",
    " - e.g. air quality tomorrow so measures can be taken"
   ]
  },
  {
   "cell_type": "markdown",
   "metadata": {
    "cell_style": "center",
    "slideshow": {
     "slide_type": "slide"
    }
   },
   "source": [
    "# Take Home Message\n",
    "- Problem solving <=> finding the right choice for the 'missing piece'\n",
    "- This gives us  a way of:\n",
    " - breaking up big problems into little ones\n",
    " - identfying what type of problem each sub-problem is\n",
    " - and so identifying the right technology to use for that sub-problem\n",
    " \n",
    "## You need to:\n",
    "- learn the names of the three types of problem, \n",
    "- and what kind of question they correspond to\n",
    "- practise identfying what type of problem you have"
   ]
  },
  {
   "cell_type": "code",
   "execution_count": null,
   "metadata": {},
   "outputs": [],
   "source": []
  }
 ],
 "metadata": {
  "celltoolbar": "Slideshow",
  "kernelspec": {
   "display_name": "base",
   "language": "python",
   "name": "python3"
  },
  "language_info": {
   "codemirror_mode": {
    "name": "ipython",
    "version": 3
   },
   "file_extension": ".py",
   "mimetype": "text/x-python",
   "name": "python",
   "nbconvert_exporter": "python",
   "pygments_lexer": "ipython3",
   "version": "3.11.7"
  },
  "rise": {
   "start_slideshow_at": "selected"
  }
 },
 "nbformat": 4,
 "nbformat_minor": 4
}
